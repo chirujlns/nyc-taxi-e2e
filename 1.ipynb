{
 "cells": [
  {
   "cell_type": "code",
   "execution_count": 2,
   "metadata": {},
   "outputs": [],
   "source": [
    "\n",
    "# Import necessary libraries\n",
    "import boto3\n",
    "import requests\n",
    "import json\n",
    "\n",
    "# Function to get GitHub token from AWS Secrets Manager\n",
    "def get_github_token(secret_name):\n",
    "    # Create a Secrets Manager client\n",
    "    client = boto3.client('secretsmanager')\n",
    "    \n",
    "    # Retrieve the secret value\n",
    "    response = client.get_secret_value(SecretId=secret_name)\n",
    "    secret = response['SecretString']\n",
    "    secret_dict = json.loads(secret)\n",
    "    return secret_dict['github-token1']\n",
    "\n",
    "# Function to create a GitHub webhook\n",
    "def create_github_webhook(repo_owner, repo_name, token, webhook_url):\n",
    "    url = f\"https://api.github.com/repos/{repo_owner}/{repo_name}/hooks\"\n",
    "    headers = {\n",
    "        \"Authorization\": f\"token {token}\",\n",
    "        \"Accept\": \"application/vnd.github.v3+json\"\n",
    "    }\n",
    "    payload = {\n",
    "        \"name\": \"web\",\n",
    "        \"active\": True,\n",
    "        \"events\": [\"push\"],\n",
    "        \"config\": {\n",
    "            \"url\": webhook_url,\n",
    "            \"content_type\": \"json\"\n",
    "        }\n",
    "    }\n",
    "    response = requests.post(url, headers=headers, json=payload)\n",
    "    return response\n",
    "\n",
    "# Define parameters\n",
    "secret_name = \"github-token1\"  # Name of the secret in AWS Secrets Manager\n",
    "repo_owner = \"chirujlns\"       # GitHub username\n",
    "repo_name = \"nyc-taxi-e2e\"     # Repository name\n",
    "webhook_url = \"https://example.com/webhook\"  # URL for the webhook\n",
    "\n",
    "# Get GitHub token from AWS Secrets Manager\n",
    "github_token = get_github_token(secret_name)\n",
    "\n",
    "# Create GitHub webhook\n",
    "response = create_github_webhook(repo_owner, repo_name, github_token, webhook_url)\n",
    "\n",
    "# Print response\n",
    "print(response.status_code)\n",
    "print(response.json())"
   ]
  }
 ],
 "metadata": {
  "kernelspec": {
   "display_name": ".venv",
   "language": "python",
   "name": "python3"
  },
  "language_info": {
   "codemirror_mode": {
    "name": "ipython",
    "version": 3
   },
   "file_extension": ".py",
   "mimetype": "text/x-python",
   "name": "python",
   "nbconvert_exporter": "python",
   "pygments_lexer": "ipython3",
   "version": "3.12.4"
  }
 },
 "nbformat": 4,
 "nbformat_minor": 2
}
